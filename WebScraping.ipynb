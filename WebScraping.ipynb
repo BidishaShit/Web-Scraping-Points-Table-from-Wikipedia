{
 "cells": [
  {
   "cell_type": "code",
   "execution_count": 154,
   "id": "27be4e15-6bd7-4960-8866-3052fc7ac467",
   "metadata": {},
   "outputs": [],
   "source": [
    "#importing libraries\n",
    "from selenium import webdriver\n",
    "import time\n",
    "import json\n",
    "from selenium.webdriver.common.by import By"
   ]
  },
  {
   "cell_type": "code",
   "execution_count": 155,
   "id": "879d8f16-ffe1-4fdb-abd4-cb0f97d391a3",
   "metadata": {},
   "outputs": [],
   "source": [
    "def scrape_points_table(url):\n",
    "    # Initialize Selenium WebDriver\n",
    "    driver = webdriver.Chrome()\n",
    "    driver.get(url)\n",
    "    time.sleep(2)  # Allow time for page to load\n",
    "    \n",
    "    # Find the table containing points\n",
    "    \n",
    "    points_table = driver.find_element(By.XPATH,'//*[@id=\"mw-content-text\"]/div[1]/table[4]/tbody')\n",
    "    # Initialize empty lists to store  data\n",
    "    points_data = []\n",
    "    team_name = []\n",
    "    points = []\n",
    "    \n",
    "    # Extract data from each row of the table\n",
    "    rows = points_table.find_elements(By.XPATH,\".//tr\")[1:]  # Skip the header row\n",
    "    for row in rows:\n",
    "        columns = row.find_elements(By.XPATH,'//*[@id=\"mw-content-text\"]/div[1]/table[4]/tbody/tr/th/a')\n",
    "        pts = row.find_elements(By.XPATH,'//*[@id=\"mw-content-text\"]/div[1]/table[4]/tbody/tr/td[7]')\n",
    "\n",
    "        \n",
    "        for column in columns:\n",
    "            team_name.append(column.text)\n",
    "            \n",
    "        for point in pts:\n",
    "            points.append(point.text)\n",
    "\n",
    "    \n",
    "    team_points = zip(team_name,points)\n",
    "    points_data = dict(team_points)           \n",
    "     \n",
    "    # Close the WebDriver\n",
    "    driver.quit()\n",
    "\n",
    "    # Return data in JSON format\n",
    "    return {\"points\": points_data}"
   ]
  },
  {
   "cell_type": "code",
   "execution_count": 156,
   "id": "6575213d-230e-4f6b-98e6-ad9978beaa14",
   "metadata": {},
   "outputs": [
    {
     "name": "stdout",
     "output_type": "stream",
     "text": [
      "{\n",
      "    \"points\": {\n",
      "        \"India\": \"18\",\n",
      "        \"South Africa\": \"14\",\n",
      "        \"Australia\": \"14\",\n",
      "        \"New Zealand\": \"10\",\n",
      "        \"Pakistan\": \"8\",\n",
      "        \"Afghanistan\": \"8\",\n",
      "        \"England\": \"6\",\n",
      "        \"Bangladesh\": \"4\",\n",
      "        \"Sri Lanka\": \"4\",\n",
      "        \"Netherlands\": \"4\"\n",
      "    }\n",
      "}\n"
     ]
    }
   ],
   "source": [
    "url = \"https://en.wikipedia.org/wiki/2023_Cricket_World_Cup\"\n",
    "#convert in json format\n",
    "points_table_data = scrape_points_table(url)\n",
    "print(json.dumps(points_table_data, indent=4))"
   ]
  },
  {
   "cell_type": "code",
   "execution_count": null,
   "id": "350b7ce5-6771-4328-a297-850b0af15081",
   "metadata": {},
   "outputs": [],
   "source": []
  }
 ],
 "metadata": {
  "kernelspec": {
   "display_name": "Python 3 (ipykernel)",
   "language": "python",
   "name": "python3"
  },
  "language_info": {
   "codemirror_mode": {
    "name": "ipython",
    "version": 3
   },
   "file_extension": ".py",
   "mimetype": "text/x-python",
   "name": "python",
   "nbconvert_exporter": "python",
   "pygments_lexer": "ipython3",
   "version": "3.10.2"
  }
 },
 "nbformat": 4,
 "nbformat_minor": 5
}
